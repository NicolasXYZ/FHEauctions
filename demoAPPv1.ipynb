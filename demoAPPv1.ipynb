{
 "cells": [
  {
   "cell_type": "markdown",
   "id": "severe-botswana",
   "metadata": {},
   "source": [
    "# This is a web version of the privacy-preserving Q&A app proposal\n",
    "\n",
    "Please refer to nicozhang@hotmail.fr for app proposal, if you don't already have it.\n",
    "\n",
    "\n",
    "--\n",
    "\n",
    "This notebook is to be operated like your personal phone in the app design. Everything done here is **local** - ***ie nothing you will be typing here would be saved or leave your personal laptop !*** (try refreshing the webpage to see if your changes have been saved - no:) \n",
    "\n",
    "**If you are paranoid** you can even ask me the notebook source file, copy paste it to your laptop, and launch this same page **offline** to do the same encryption of your numbers - without any difference (except increased *perceived* reassurance about not leaking any of the numbers you'll type here).\n",
    "\n",
    "\n",
    "--\n",
    "\n",
    "**The goal** is to encrypt using this notebook whatever numbers you'll want to share with friends to answer a common question. For instance, a friend can send you and others a question to be treated in a privacy-preserving manner (cf app proposal) on any messenging application. The answers, which can be any number between 1 and 10 (or any other scale - it doesn't really matter as long as you have decided that collectively with the group), are to be encrypted ***locally*** by every participants, so that you can just send back to each other the encrypted results - which are like meaningless blurbs such as asd67^&^&8as68  (to the organizer but also any other member of this group, if they want to double check the end result).\n",
    "\n",
    "\n",
    "--\n",
    "\n",
    "You can also use this notebook to initiate such a round, by setting up the number of participants, and by creating a common key here, that you send along to all of them along with the question you want them to asnwer.\n",
    "\n",
    "\n",
    "On top of each cell below there will be a header to say if it's a cell to be used as **initiator** of the Q&A session, as just a **participant**, or to be **run in all cases** (to run a cell click on it, then click \"Shift + Enter\" on your keyboard. They have to be run in order, from top to bottom, without missing one - unless a cell is not corresponding to your category eg initiator or participant. *And don't worry - the app will be simpler to use  !*). In cases of confusion or bugs just refresh the page and start over - or give me a call so that I can guide you through it.\n",
    "\n",
    "--\n",
    "\n",
    "Have fun - and take care of your loved ones !\n",
    "\n",
    "\n",
    "\n"
   ]
  },
  {
   "cell_type": "code",
   "execution_count": 55,
   "id": "spanish-communications",
   "metadata": {},
   "outputs": [],
   "source": [
    "#### TO BE RUN IN ALL CASES ######\n",
    "\n",
    "import phe\n",
    "from phe import paillier\n",
    "import json"
   ]
  },
  {
   "cell_type": "code",
   "execution_count": 56,
   "id": "lyric-journalism",
   "metadata": {},
   "outputs": [],
   "source": [
    "#### TO BE RUN ONLY BY INITIATOR ######\n",
    "\n",
    "public_key, private_key = paillier.generate_paillier_keypair()\n",
    "\n",
    "to_be_shared_pub_key = {}\n",
    "to_be_shared_pub_key['public_key'] = { 'g':public_key.g, 'n':public_key.n}\n",
    "\n",
    "with open('public_key_to_be_shared', 'w') as outfile:\n",
    "    json.dump(to_be_shared_pub_key, outfile)\n",
    "    \n",
    "    \n",
    "#### FIND THE FILE to_be_shared_pub_key IN YOUR LAPTOP AND SEND IT TO YOUR FRIENDS ALONG WITH THE QUESTION\n",
    "\n",
    "\n"
   ]
  },
  {
   "cell_type": "code",
   "execution_count": 57,
   "id": "nonprofit-vancouver",
   "metadata": {},
   "outputs": [
    {
     "name": "stdout",
     "output_type": "stream",
     "text": [
      "/Users/nicolaszhang/FHEauctions\n"
     ]
    }
   ],
   "source": [
    "#### TO BE RUN ONLY BY PARTICIPANT, with one hand modification to do ####\n",
    "\n",
    "\n",
    "# FIND IN YOUR LAPTOP to_be_shared_pub_key THAT YOUR FRIEND SEND YOU\n",
    "# COPY-PASTE THE PATH BELOW, replacing '/Users/nicolaszhang/FHEauctions' below\n",
    "\n",
    "%cd '/Users/nicolaszhang/FHEauctions'\n",
    "\n",
    "\n",
    "\n",
    "# THEN EXECUTE the cell by clicking here and (Shift+Enter) \n",
    "\n",
    "with open('public_key_to_be_shared') as json_file:\n",
    "    public_key_loaded = json.load(json_file)\n",
    "    \n",
    "pk = public_key_loaded['public_key']\n",
    "public_key_rec = paillier.PaillierPublicKey(n=int(pk['n']))"
   ]
  },
  {
   "cell_type": "code",
   "execution_count": 58,
   "id": "reverse-shaft",
   "metadata": {},
   "outputs": [
    {
     "name": "stdout",
     "output_type": "stream",
     "text": [
      "<phe.paillier.EncryptedNumber object at 0x10d8f5a60>\n"
     ]
    }
   ],
   "source": [
    "#### TO BE RUN ONLY BY PARTICIPANT, with one hand modification to do ####\n",
    "\n",
    "\n",
    "\n",
    "# WRITE YOUR NUMBER HERE (can be any number between 1 and 10 (or any other scale - it doesn't really matter as long as you have decided that collectively with the group)\n",
    "# replace my 8 by your number\n",
    "\n",
    "your_number = 8\n",
    "\n",
    "# Let's print out what the encrypted version of this bid is - it is that encrypted value that will be sent to the server \n",
    "your_encrypted_number = public_key_rec.encrypt(your_number)\n",
    "print(your_encrypted_number)\n",
    "\n",
    "# See ? It's encrypted as something like <phe.paillier.EncryptedNumber object at  0x10d8392e0>\n"
   ]
  },
  {
   "cell_type": "code",
   "execution_count": 73,
   "id": "descending-guarantee",
   "metadata": {},
   "outputs": [
    {
     "name": "stdout",
     "output_type": "stream",
     "text": [
      "{\"public_key\": {\"g\": 16409925521661565556390238590618334010017995591945882024016623289250229878864223438578804734886166366197757127765208858724900291220721261838304627862742331860954766873941598582656135290423583297208666575391025694979285756616902113992149510574424448605283772244745133516183442215548909640262343196164697760414432307030131671947438072743774532420623632094975829024541678168986651936199360901936056978638997767419457953073589453031732001364363272804452146891448511845237515689287030447531727597571967819298107759794267035166910904970528087159824090375214425952049815081366550940897785638304994895423959930209887580374602, \"n\": 16409925521661565556390238590618334010017995591945882024016623289250229878864223438578804734886166366197757127765208858724900291220721261838304627862742331860954766873941598582656135290423583297208666575391025694979285756616902113992149510574424448605283772244745133516183442215548909640262343196164697760414432307030131671947438072743774532420623632094975829024541678168986651936199360901936056978638997767419457953073589453031732001364363272804452146891448511845237515689287030447531727597571967819298107759794267035166910904970528087159824090375214425952049815081366550940897785638304994895423959930209887580374601}, \"enc_value\": [\"115507727406531563170182464875072149557212854672236838077118322814479647023633389379274159053403803790999098471942261488843089509778241033824931704905343838538999545707727922610299860111483812411414930261399103509664636026414853652065767125145573468596407205822061968089967274837613082551993910478629954260977733133463349604972842615501993766736492323319222431832108659128737186297543785054710028369563626263454385855862539618559300290797011565124436703710453557391048240238903416014192113562060125421118184739634664239098239301747777928363886898263615510658969371642844720504869052215293494797470158504922535794718269889298347985112175865946312264088898424016048864581501131394390666364322465980361517389860386601513099989861009841543726212646208390989920631080957160601405032730192223296328652165940044233234743348723876010128401625765259525401339057365254939147759975599546979086171405202841253217825013728754054689428662925684834394585000241500379836263956536708754074399981192984281963349934958696126005406222521781155434872994483169139140706946396841116231144265162448055943334322200909620940593022732107623410468031137158319372699264987136362871949285104394203660451903080144274180607596678194840183561322255397571532700077273\", 0]}\n"
     ]
    }
   ],
   "source": [
    "#### TO BE RUN ONLY BY PARTICIPANT, with NO hand modification to do ####\n",
    "\n",
    "\n",
    "\n",
    "# Let's create the file to send back to the organizer\n",
    "\n",
    "enc_with_pub_key = {}\n",
    "enc_with_pub_key['public_key'] = { 'g':public_key_rec.g, 'n':public_key_rec.n}\n",
    "enc_with_pub_key['enc_value'] = (str(your_encrypted_number.ciphertext()),your_encrypted_number.exponent)\n",
    "serialised = json.dumps(enc_with_pub_key)\n",
    "print(serialised)\n",
    "\n",
    "# See - it's even more encrypted. That's the text file you'll send back to the Q&A organizer !\n",
    "\n",
    "\n",
    "with open('your_encrypted_number_to_send_back_3', 'w') as outfile:\n",
    "    json.dump(serialised, outfile)\n",
    "    \n",
    "    \n",
    "#### FIND THE FILE your_encrypted_number_to_send_back IN YOUR LAPTOP AND SEND IT TO YOUR FRIENDS ALONG WITH THE QUESTION\n",
    "\n"
   ]
  },
  {
   "cell_type": "code",
   "execution_count": 60,
   "id": "waiting-netscape",
   "metadata": {},
   "outputs": [
    {
     "name": "stdout",
     "output_type": "stream",
     "text": [
      "/Users/nicolaszhang/FHEauctions\n"
     ]
    }
   ],
   "source": [
    "#### TO BE RUN ONLY BY INITIATOR with one hand modification to do  ######\n",
    "\n",
    "\n",
    "# FIND THE FILEs your_encrypted_number_to_send_back FROM ALL YOUR FRIENDS IN YOUR LAPTOP , PUT THEM IN THE SAME FOLDER, \n",
    "# with a number following each ie your_encrypted_number_to_send_back_1, your_encrypted_number_to_send_back_2... depending on number of participants\n",
    "# COPY-PASTE THE PATH BELOW, replacing '/Users/nicolaszhang/FHEauctions' below\n",
    "\n",
    "%cd '/Users/nicolaszhang/FHEauctions'\n",
    "\n",
    "\n",
    "\n"
   ]
  },
  {
   "cell_type": "code",
   "execution_count": 74,
   "id": "legislative-grocery",
   "metadata": {},
   "outputs": [],
   "source": [
    "#### TO BE RUN ONLY BY INITIATOR with one hand modification to do  ######\n",
    "\n",
    "\n",
    "\n",
    "# THEN COPY PASTE THIS CELL ONCE FOR EVERY PARTICIPANT by changing the suffix with his number, \n",
    "# ie your_encrypted_number_to_send_back_1, your_encrypted_number_to_send_back_2...\n",
    "\n",
    "with open('your_encrypted_number_to_send_back_3') as json_file:\n",
    "    key_and_encrypted_number_serialised = json.load(json_file)\n",
    "    \n",
    "received_dict = json.loads(key_and_encrypted_number_serialised)\n",
    "pk = received_dict['public_key']\n",
    "public_key_rec = paillier.PaillierPublicKey(n=int(pk['n']))\n",
    "\n",
    "\n",
    "# Change also the suffix below ie enc_nums_rec_1, _2... \n",
    "# It should match the suffix above \n",
    "\n",
    "enc_nums_rec_3 = paillier.EncryptedNumber(public_key_rec, int(received_dict['enc_value'][0]), int(received_dict['enc_value'][1]))\n",
    "\n",
    "\n",
    "# EXECUTE the cell by clicking here and (Shift+Enter) "
   ]
  },
  {
   "cell_type": "code",
   "execution_count": 76,
   "id": "dress-consolidation",
   "metadata": {},
   "outputs": [
    {
     "name": "stdout",
     "output_type": "stream",
     "text": [
      "<phe.paillier.EncryptedNumber object at 0x10d8f5c70>\n"
     ]
    }
   ],
   "source": [
    "#### TO BE RUN ONLY BY INITIATOR with one hand modification to do  ######\n",
    "\n",
    "\n",
    "# write the function you want to do with all of these encrypted messages (below I did average)\n",
    "\n",
    "enc_average = (enc_nums_rec_1 + enc_nums_rec_2 + enc_nums_rec_3)/3\n",
    "print(enc_average)\n",
    "\n",
    "# You can see that the result is still encrypted ! You can send that back to the participants, along with the private key, for them to decrypt \n",
    "# (they can also use this private key to decrypt the number they sent - which only they know - to verify that the same key was used and no cheating occured.)"
   ]
  },
  {
   "cell_type": "code",
   "execution_count": 78,
   "id": "speaking-projector",
   "metadata": {},
   "outputs": [
    {
     "name": "stdout",
     "output_type": "stream",
     "text": [
      "{\"public_key\": {\"g\": 16409925521661565556390238590618334010017995591945882024016623289250229878864223438578804734886166366197757127765208858724900291220721261838304627862742331860954766873941598582656135290423583297208666575391025694979285756616902113992149510574424448605283772244745133516183442215548909640262343196164697760414432307030131671947438072743774532420623632094975829024541678168986651936199360901936056978638997767419457953073589453031732001364363272804452146891448511845237515689287030447531727597571967819298107759794267035166910904970528087159824090375214425952049815081366550940897785638304994895423959930209887580374602, \"n\": 16409925521661565556390238590618334010017995591945882024016623289250229878864223438578804734886166366197757127765208858724900291220721261838304627862742331860954766873941598582656135290423583297208666575391025694979285756616902113992149510574424448605283772244745133516183442215548909640262343196164697760414432307030131671947438072743774532420623632094975829024541678168986651936199360901936056978638997767419457953073589453031732001364363272804452146891448511845237515689287030447531727597571967819298107759794267035166910904970528087159824090375214425952049815081366550940897785638304994895423959930209887580374601}, \"enc_value\": [\"36457261154213502783895431601868805501821998179327885621282458492355827876308754850984820296487436846775535197793376479930882211751852115418177604730709029658007765897433826989022861196653432357230485605383237803845837700644779934028466549907647138532996411728020554368778609975336950091705198002379077570662351380119426187797522726578737747583616464179983276095090518682806291670500387362511402041270067757172492990045517534298343964737119529831824476854984902077050562606496262881266189005296648084108087507877010976007111455352498863545137985144147312838303226763391086473562394176759435403593472781120866481870568395584640935239054466197736468550008269027272822166287353433847757231531796783837305700396360973853461914895252124804932209165747299297113043819993218108107917989691191585703086221842250140497539128381087826075964460396570454581539864184741787976079245939027757025716663895625733024233100941670517178827022724796280863575649854577696434180457620173462859400891561573392582889810779514906269820850970561376113427056720145291891380559202420674236456725886365644928277971139084128366190011690632242813829767400818692655100106287050049844185903141830988080816561065490416234114686233848411415634847613727711375315780666\", -14], \"private_key\": {\"p\": 126551503790991057968363185273620642641420786596372339816129972684004032436964353653103679410907061845500482968103353877240367547122613009266644320493721195845896138341625832172705708397370688298224094583992801057054563703731164956496880321941856524992127322042031876405831151033009715853398545710238404930529, \"q\": 129669936982840930112397852811089273984542131021354943511573361090422676421138433294072268595731073507435832260280046569874747910635879265888113659949951986191619075403350538659453340523067622386102689521223556903727471044038012038053383264566337772518648615149498711603736472417353316746499029926727023748969}}\n"
     ]
    }
   ],
   "source": [
    "#### TO BE RUN ONLY BY INITIATOR with one hand modification to do  ######\n",
    "\n",
    "# To send back the result along with the private key\n",
    "\n",
    "enc_with_pub_key = {}\n",
    "enc_with_pub_key['public_key'] = { 'g':public_key.g, 'n':public_key.n}\n",
    "enc_with_pub_key['enc_value'] = (str(enc_average.ciphertext()),enc_average.exponent)\n",
    "enc_with_pub_key['private_key'] = { 'p':private_key.p, 'q':private_key.q}\n",
    "serialised = json.dumps(enc_with_pub_key)\n",
    "print(serialised)\n",
    "\n",
    "\n",
    "\n",
    "# See - it's even more encrypted. That's the text file you'll send back to the Q&A organizer !\n",
    "\n",
    "\n",
    "with open('encrypted_result_and_key', 'w') as outfile:\n",
    "    json.dump(serialised, outfile)\n",
    "    \n",
    "    \n",
    "#### FIND THE FILE encrypted_result_and_key IN YOUR LAPTOP AND SEND IT TO YOUR FRIENDS ALONG WITH THE QUESTION\n",
    "\n",
    "\n",
    "\n"
   ]
  },
  {
   "cell_type": "code",
   "execution_count": 77,
   "id": "frozen-career",
   "metadata": {},
   "outputs": [
    {
     "data": {
      "text/plain": [
       "8.0"
      ]
     },
     "execution_count": 77,
     "metadata": {},
     "output_type": "execute_result"
    }
   ],
   "source": [
    "\n",
    "private_key.decrypt(enc_average)"
   ]
  },
  {
   "cell_type": "code",
   "execution_count": 79,
   "id": "french-giant",
   "metadata": {},
   "outputs": [
    {
     "name": "stdout",
     "output_type": "stream",
     "text": [
      "/Users/nicolaszhang/FHEauctions\n",
      "<phe.paillier.EncryptedNumber object at 0x10d915d30>\n"
     ]
    },
    {
     "data": {
      "text/plain": [
       "8.0"
      ]
     },
     "execution_count": 79,
     "metadata": {},
     "output_type": "execute_result"
    }
   ],
   "source": [
    "#### TO BE RUN ONLY BY ALL with one hand modification to do  ######\n",
    "\n",
    "\n",
    "# FIND THE FILEs your_encrypted_number_to_send_back FROM ALL YOUR FRIENDS IN YOUR LAPTOP , PUT THEM IN THE SAME FOLDER, \n",
    "# with a number following each ie your_encrypted_number_to_send_back_1, your_encrypted_number_to_send_back_2... depending on number of participants\n",
    "# COPY-PASTE THE PATH BELOW, replacing '/Users/nicolaszhang/FHEauctions' below\n",
    "\n",
    "%cd '/Users/nicolaszhang/FHEauctions'\n",
    "\n",
    "\n",
    "with open('encrypted_result_and_key') as json_file:\n",
    "    encrypted_result_and_key = json.load(json_file)\n",
    "    \n",
    "received_dict = json.loads(encrypted_result_and_key)\n",
    "pk = received_dict['public_key']\n",
    "priv = received_dict['private_key']\n",
    "enc_nums_rec = paillier.EncryptedNumber(public_key_rec, int(received_dict['enc_value'][0]), int(received_dict['enc_value'][1]))\n",
    "\n",
    "public_key_rec = paillier.PaillierPublicKey(n=int(pk['n']))\n",
    "priv_rec = paillier.PaillierPrivateKey(public_key = paillier.PaillierPublicKey(n=int(pk['n'])), p=int(priv['p']),q=int(priv['q']))\n",
    "\n",
    "print(enc_nums_rec)\n",
    "\n",
    "priv_rec.decrypt(enc_nums_rec)\n",
    "\n",
    "# EXECUTE the cell by clicking here and (Shift+Enter) "
   ]
  },
  {
   "cell_type": "code",
   "execution_count": null,
   "id": "affecting-bacteria",
   "metadata": {},
   "outputs": [],
   "source": []
  }
 ],
 "metadata": {
  "kernelspec": {
   "display_name": "Python 3",
   "language": "python",
   "name": "python3"
  },
  "language_info": {
   "codemirror_mode": {
    "name": "ipython",
    "version": 3
   },
   "file_extension": ".py",
   "mimetype": "text/x-python",
   "name": "python",
   "nbconvert_exporter": "python",
   "pygments_lexer": "ipython3",
   "version": "3.8.2"
  }
 },
 "nbformat": 4,
 "nbformat_minor": 5
}
