{
 "cells": [
  {
   "cell_type": "markdown",
   "metadata": {},
   "source": [
    "Decentralized auctions, under homomorphic encryption and multiparty computation \n",
    "============\n",
    "-----\n",
    "\n",
    "\n",
    "##  Summary \n",
    "\n",
    "The goal of this notebook is to provide a prototype illustrating how homomorphic encryption would allow mechanism design schemes that do not rely on the \"mythical central planner\". **For instance - auctions ran without an auctioneer acting as trusting third party, but organized by the participating parties themselves** (one can then use such a decentralized auction to automate and improve OTC auctions like those operating under BWIC - \"bids wanted in competition\" - which are prone to conflicts and misreporting; *see for instance \"Public Sector Pension Investment Board of Canada v. Saba Capital Management\"*).\n",
    "\n",
    "\n",
    "## The auction simulation in this notebook \n",
    "\n",
    "This notebook provides an illustration of a decentralized auction, which you can run with some of your friends or family members (for now if they are physically located close to you - sorry for the lockdown !). Indeed section 2. below provides a section with hideable cells which each one of you can use to enter his bid. \n",
    "\n",
    "To make things more realistic a real (virtual) good can be put on sale here : some of you might indeed know of the blog full of articles on random topics that I have - https://medium.com/@nicolaszhang -, however you couldn't know that there are many \"unlisted\" articles there that no one without the link can see (see screenshot below).\n",
    "<img src=\"Screen Shot 2020-05-27 at 7.24.12 AM.png\" />\n",
    "\n",
    "A pseudo real life auction will then consist in \"selling\" one of these \"unlisted\" articles, whose value will be for you (and your friends) to decide. The last section here will offer different auction schemes for this sell, and once you and your friends will decide to participate in, the final winning bidder will be automatically sent a Venmo request with the value of the winning bid. Upon completion of the online transaction the link of the \"unlisted\" article will be sent to him. \n",
    "\n",
    "Our hypothesis will be that the different auction schemes will lead to different winning bids (even among the same players).\n",
    "\n",
    "\n",
    "## The homomorphic encryption scheme used here \n",
    "\n",
    "\n",
    "**Homomorphic encryption refers to a kind of encryption in which some computation on ciphertexts produces an encryption of the desired computation on the plaintexts** (i.e. f(Enc(messages)) = Enc(f(messages)), in which f can be additive, multiplicative, or more sophisticated functions). \n",
    "\n",
    "The Paillier encryption scheme used here is for instance homomorphic over the operation of addition. **Namely, given pk, Enc(pk, m1), Enc(pk, m2) one can efficiently compute Enc(pk, m1 + m2)**. *(see Paillier, Pascal (1999). \"Public-Key Cryptosystems Based on Composite Degree Residuosity Classes\". EUROCRYPT. Springer. pp. 223–238. doi:10.1007/3-540-48910-X_16)*\n",
    "\n",
    "\n",
    "<img src=\"Screen Shot 2020-05-27 at 6.55.54 AM.png\" />\n",
    "<img src=\"Screen Shot 2020-05-27 at 6.55.08 AM.png\" />\n"
   ]
  },
  {
   "cell_type": "code",
   "execution_count": 1,
   "metadata": {},
   "outputs": [],
   "source": [
    "# Importing the Paillier encryption library from https://python-paillier.readthedocs.io\n",
    "\n",
    "from phe import paillier\n",
    "\n",
    "# Importing a graphic toolbox to plot the distributions in BWIC auctions\n",
    "import matplotlib.pyplot as plt\n"
   ]
  },
  {
   "cell_type": "code",
   "execution_count": 2,
   "metadata": {},
   "outputs": [],
   "source": [
    "# Now we are starting to build the public and private keys\n",
    "\n",
    "public_key, private_key = paillier.generate_paillier_keypair()\n",
    " \n",
    "# If we’re going to have lots of private keys lying around, then we can use a keyring on which to store our PaillierPrivateKey instances:\n",
    "keyring = paillier.PaillierPrivateKeyring()\n",
    "keyring.add(private_key)"
   ]
  },
  {
   "cell_type": "code",
   "execution_count": 3,
   "metadata": {},
   "outputs": [],
   "source": [
    "# Let's decide how many players we want. \n",
    "# For now let's say 3. If you want more you can just copy paste the code below by adding the number of player 4, player 5, etc\n",
    "\n",
    "# Let's create for all 3 of them a public key and private key pair :\n",
    "\n",
    "public_key1, private_key1 = paillier.generate_paillier_keypair(keyring)\n",
    "public_key2, private_key2 = paillier.generate_paillier_keypair(keyring)\n",
    "public_key3, private_key3 = paillier.generate_paillier_keypair(keyring)\n",
    "\n",
    "# And the list that will receive their three bids :\n",
    "\n",
    "secret_number_list = [None] * 3"
   ]
  },
  {
   "cell_type": "markdown",
   "metadata": {},
   "source": [
    "# We are now starting to enter the bids for the good. \n",
    "\n",
    "Here below the cells are collapsable, so that each of your 3 friends can \"open\" a cell, input their private values in it, then \"close\" the cell to prevent other players to easily see the value it contains"
   ]
  },
  {
   "cell_type": "code",
   "execution_count": 4,
   "metadata": {},
   "outputs": [],
   "source": [
    "# Call your friend player 1 and let him enter his bid here (without looking at his value !)\n",
    "\n",
    "bid_from_player_1 = 13.141592653;\n",
    "\n",
    "# Let's store that bid in the list of bids\n",
    "secret_number_list[0] = bid_from_player_1"
   ]
  },
  {
   "cell_type": "code",
   "execution_count": 5,
   "metadata": {},
   "outputs": [],
   "source": [
    "# Now call your friend player 2 and let him enter his bid here (without looking at his value !)\n",
    "\n",
    "bid_from_player_2 = 10;\n",
    "\n",
    "# Let's store that bid in the list of bids\n",
    "secret_number_list[1]=bid_from_player_2"
   ]
  },
  {
   "cell_type": "code",
   "execution_count": 6,
   "metadata": {},
   "outputs": [],
   "source": [
    "# Now call your friend player 3 and let him enter his bid here (without looking at his value !)\n",
    "\n",
    "bid_from_player_3 = 8;\n",
    "\n",
    "# Let's store that bid in the list of bids\n",
    "secret_number_list[2]=bid_from_player_3"
   ]
  },
  {
   "cell_type": "code",
   "execution_count": 7,
   "metadata": {},
   "outputs": [
    {
     "name": "stdout",
     "output_type": "stream",
     "text": [
      "[<phe.paillier.EncryptedNumber object at 0x10f210350>, <phe.paillier.EncryptedNumber object at 0x117452c10>, <phe.paillier.EncryptedNumber object at 0x10f1f59d0>]\n"
     ]
    }
   ],
   "source": [
    "# Let's now encrypt everything\n",
    "\n",
    "encrypted_number_list = [public_key.encrypt(x) for x in secret_number_list]\n",
    "print(encrypted_number_list)\n",
    "# Now the list of bids has been encrypted using the public key ! It can for instance be revealed without any outside agent being able to decrypt it"
   ]
  },
  {
   "cell_type": "markdown",
   "metadata": {},
   "source": [
    "# A \"decentralized auctioneer\"\n",
    "\n",
    "This party does not have access to the private keys, and typically performs operations on supplied encrypted data.\n",
    "\n",
    "Once this party has received some EncryptedNumber instances, it can perform basic mathematical operations supported by the Paillier encryption, such as:\n",
    "\n",
    "- Addition of an EncryptedNumber to a scalar\n",
    "- Addition of two EncryptedNumber instances\n",
    "- Multiplication of an EncryptedNumber by a scalar"
   ]
  },
  {
   "cell_type": "code",
   "execution_count": 8,
   "metadata": {},
   "outputs": [
    {
     "data": {
      "text/plain": [
       "[<phe.paillier.EncryptedNumber at 0x10f210350>,\n",
       " <phe.paillier.EncryptedNumber at 0x117452c10>,\n",
       " <phe.paillier.EncryptedNumber at 0x10f1f59d0>]"
      ]
     },
     "execution_count": 8,
     "metadata": {},
     "output_type": "execute_result"
    }
   ],
   "source": [
    "#Let's print out the encrypted number for instance to see that they are indeed \"meaningless\"\n",
    "\n",
    "encrypted_number_list"
   ]
  },
  {
   "cell_type": "code",
   "execution_count": 9,
   "metadata": {},
   "outputs": [
    {
     "name": "stdout",
     "output_type": "stream",
     "text": [
      "<phe.paillier.EncryptedNumber object at 0x11747a110>\n"
     ]
    }
   ],
   "source": [
    "# Let's now see homomorphically (i.e. performing the comparison function on the encrypted data) which one of the bids is higher\n",
    "\n",
    "bid1_vs_bid2 = encrypted_number_list[0] - encrypted_number_list[1]\n",
    "\n",
    "# You can see that the result is also encrypted, hence meaningless for the outside agent looking at it\n",
    "print(bid1_vs_bid2)"
   ]
  },
  {
   "cell_type": "markdown",
   "metadata": {},
   "source": [
    "## With homomorphic encryption, a piece of code (or a \"smart contract\") can now perform the role of the auctioneer\n",
    "\n",
    "Such a code does not have access to the private keys, but can still perform operations on supplied encrypted data, and hence tell all participating agents which one has the highest bid (if in a single round auction), or provide some information between rounds before the bid updating step in a multiround auction (the distribution of bids at each round, the distribution *without the highest bid* at each round...)...\n",
    "\n",
    "This guarantees truthfulness of the auctioneer, full and transparent reporting of the informations that has been decided to be revealed at the end of each round, and better privacy for the bidders on the rest."
   ]
  },
  {
   "cell_type": "markdown",
   "metadata": {},
   "source": [
    "### Example of a single round first-price auction based on the previous 3 bids :"
   ]
  },
  {
   "cell_type": "code",
   "execution_count": 10,
   "metadata": {},
   "outputs": [
    {
     "name": "stdout",
     "output_type": "stream",
     "text": [
      "bidder 1 won the auction\n"
     ]
    }
   ],
   "source": [
    "if private_key.decrypt(bid1_vs_bid2)>0:\n",
    "    bid2_vs_bid3 = encrypted_number_list[0] - encrypted_number_list[2]\n",
    "    if private_key.decrypt(bid2_vs_bid3)>0:\n",
    "        print('bidder 1 won the auction')\n",
    "    else:\n",
    "        print('bidder 3 won the auction')\n",
    "        \n",
    "else:\n",
    "    bid2_vs_bid3 = encrypted_number_list[1] - encrypted_number_list[2]\n",
    "    if private_key.decrypt(bid2_vs_bid3)>0:\n",
    "        print('bidder 2 won the auction')\n",
    "    else:\n",
    "        print('bidder 3 won the auction')\n",
    "    \n",
    "        "
   ]
  },
  {
   "cell_type": "markdown",
   "metadata": {},
   "source": [
    "### Example of a multiround BWIC auction based on the previous 3 bids :\n",
    "\n",
    "Each round of the BWIC auction will be based on two steps : first the submission (or the update) of each one's bid, second the revelation of the distribution of the bids **without the highest bid**."
   ]
  },
  {
   "cell_type": "markdown",
   "metadata": {},
   "source": [
    "#### Use the cell below for the submission (or the update) of each one's bid at each round\n",
    "\n",
    "Here below the cells are collapsable, so that each of your 3 friends can \"open\" a cell, input their private values in it, then \"close\" the cell to prevent other players to easily see the value it contains"
   ]
  },
  {
   "cell_type": "code",
   "execution_count": 11,
   "metadata": {},
   "outputs": [],
   "source": [
    "# Call your friend player 1 and let him enter his bid here (without looking at his value !)\n",
    "\n",
    "bid_from_player_1 = 13.141592653;\n",
    "\n",
    "# Let's store that bid in the list of bids\n",
    "secret_number_list[0] = bid_from_player_1"
   ]
  },
  {
   "cell_type": "code",
   "execution_count": 12,
   "metadata": {},
   "outputs": [],
   "source": [
    "# Now call your friend player 2 and let him enter his bid here (without looking at his value !)\n",
    "\n",
    "bid_from_player_2 = 13.141592653;\n",
    "\n",
    "# Let's store that bid in the list of bids\n",
    "secret_number_list[1] = bid_from_player_2"
   ]
  },
  {
   "cell_type": "code",
   "execution_count": 13,
   "metadata": {},
   "outputs": [],
   "source": [
    "# Finally call your friend player 3 and let him enter his bid here (without looking at his value !)\n",
    "\n",
    "bid_from_player_3 = 13.141592653;\n",
    "\n",
    "# Let's store that bid in the list of bids\n",
    "secret_number_list[2] = bid_from_player_3"
   ]
  },
  {
   "cell_type": "markdown",
   "metadata": {},
   "source": [
    "#### Use the cell below to produce the distribution of the bids without the highest bid at the end of each round"
   ]
  },
  {
   "cell_type": "code",
   "execution_count": 14,
   "metadata": {},
   "outputs": [
    {
     "data": {
      "image/png": "[encoded data removed]",
      "text/plain": [
       "<Figure size 432x288 with 1 Axes>"
      ]
     },
     "metadata": {
      "needs_background": "light"
     },
     "output_type": "display_data"
    }
   ],
   "source": [
    "encrypted_number_list = [public_key.encrypt(x) for x in secret_number_list]\n",
    "\n",
    "bid_distribution_without_highest = [None] * 2\n",
    "bid1_vs_bid2 = encrypted_number_list[0] - encrypted_number_list[1]\n",
    "\n",
    "if private_key.decrypt(bid1_vs_bid2)>0:\n",
    "    bid2_vs_bid3 = encrypted_number_list[0] - encrypted_number_list[2]\n",
    "    if private_key.decrypt(bid2_vs_bid3)>0:\n",
    "        \n",
    "        #if we were in a single round then print('bidder 1 won the auction') \n",
    "        bid_distribution_without_highest[0] = secret_number_list[1]\n",
    "        bid_distribution_without_highest[1] = secret_number_list[2]\n",
    "    else:\n",
    "        #if we were in a single round then print('bidder 3 won the auction')\n",
    "        bid_distribution_without_highest[0] = secret_number_list[0]\n",
    "        bid_distribution_without_highest[1] = secret_number_list[1]\n",
    "        \n",
    "else:\n",
    "    bid2_vs_bid3 = encrypted_number_list[1] - encrypted_number_list[2]\n",
    "    if private_key.decrypt(bid2_vs_bid3)>0:\n",
    "        #if we were in a single round then print('bidder 2 won the auction')\n",
    "        bid_distribution_without_highest[0] = secret_number_list[0]\n",
    "        bid_distribution_without_highest[1] = secret_number_list[2]\n",
    "    else:\n",
    "        #if we were in a single round then print('bidder 3 won the auction')\n",
    "        bid_distribution_without_highest[0] = secret_number_list[0]\n",
    "        bid_distribution_without_highest[1] = secret_number_list[1]\n",
    "        \n",
    "plt.hist(bid_distribution_without_highest, bins = 3)\n",
    "plt.show()\n"
   ]
  },
  {
   "cell_type": "markdown",
   "metadata": {},
   "source": [
    "Then you can re enter the bids"
   ]
  }
 ],
 "metadata": {
  "kernelspec": {
   "display_name": "Python 3",
   "language": "python",
   "name": "python3"
  },
  "language_info": {
   "codemirror_mode": {
    "name": "ipython",
    "version": 3
   },
   "file_extension": ".py",
   "mimetype": "text/x-python",
   "name": "python",
   "nbconvert_exporter": "python",
   "pygments_lexer": "ipython3",
   "version": "3.7.7"
  }
 },
 "nbformat": 4,
 "nbformat_minor": 2
}
